{
  "nbformat": 4,
  "nbformat_minor": 5,
  "metadata": {
    "accelerator": "GPU",
    "colab": {
      "name": "AM_midterm_code.ipynb",
      "provenance": [],
      "collapsed_sections": [
        "JICBvdqw2en4",
        "VX1-DGOpte2Z",
        "ODuBvd-1OOSr"
      ],
      "machine_shape": "hm",
      "toc_visible": true
    },
    "kernelspec": {
      "name": "python3",
      "display_name": "Python 3"
    },
    "language_info": {
      "name": "python"
    }
  },
  "cells": [
    {
      "cell_type": "code",
      "source": [
        "# Setting\n",
        "import numpy as np\n",
        "import pandas as pd\n",
        "from sklearn.preprocessing import MinMaxScaler\n",
        "\n",
        "import torch\n",
        "import torch.nn as nn\n",
        "import torch.optim as optim\n",
        "\n",
        "import matplotlib.pyplot as plt"
      ],
      "metadata": {
        "id": "6xC-FX_3IGIJ"
      },
      "id": "6xC-FX_3IGIJ",
      "execution_count": null,
      "outputs": []
    },
    {
      "cell_type": "markdown",
      "source": [
        "# 0. Frequency data in Auto Insurance"
      ],
      "metadata": {
        "id": "JICBvdqw2en4"
      },
      "id": "JICBvdqw2en4"
    },
    {
      "cell_type": "code",
      "metadata": {
        "id": "6ASHN4ERDCe3"
      },
      "source": [
        "'''\n",
        "X\n",
        "'''\n",
        "\n",
        "np.random.seed(2022)\n",
        "nYear=11\n",
        "sample_size=150000\n",
        "param_beta = np.array([-3.0, 1.0, 2.5])\n",
        "p = len(param_beta) # number of explanatory variable including 1\n",
        "para = pd.Series({'beta': param_beta, 'phi': 0.9, 'sig': 0.5})\n",
        "\n",
        "X1 = np.stack((np.ones(shape=[sample_size,nYear]),\n",
        "              np.random.binomial(n=1, p=0.5, size=[sample_size, nYear]),\n",
        "              np.random.binomial(n=1, p=0.5, size=[sample_size, nYear])),\n",
        "              axis=1)\n",
        "X_sim = X1"
      ],
      "execution_count": null,
      "outputs": [],
      "id": "6ASHN4ERDCe3"
    },
    {
      "cell_type": "code",
      "source": [
        "X_sim = np.transpose(X1, [0,2,1])"
      ],
      "metadata": {
        "id": "Odc0m0z-ylIK"
      },
      "execution_count": null,
      "outputs": [],
      "id": "Odc0m0z-ylIK"
    },
    {
      "cell_type": "code",
      "source": [
        "lamb = np.exp(np.matmul(X_sim, para['beta'][:, np.newaxis]))\n",
        "#print('lamb shape', lamb.shape)"
      ],
      "metadata": {
        "id": "80PqBXt-GrQG"
      },
      "execution_count": null,
      "outputs": [],
      "id": "80PqBXt-GrQG"
    },
    {
      "cell_type": "code",
      "metadata": {
        "id": "dKBIAhyptuOl"
      },
      "source": [
        "'''\n",
        "lambda, R, n\n",
        "'''\n",
        "sig = para['sig']\n",
        "phi = para['phi']\n",
        "n = np.full((sample_size, nYear), 999)\n",
        "Rhat = np.full((sample_size, nYear), 0.0)\n",
        "c_mean=-sig/np.sqrt(1-phi**2)/2\n",
        "for i in range(sample_size):\n",
        "    for t in range(nYear):\n",
        "        if t==0:\n",
        "            Rhat[i,t] = np.random.normal(c_mean, sig/np.sqrt(1-phi**2), size=1) #= phi*R0[i] + epsilon[i,1]\n",
        "        else:\n",
        "            Rhat[i,t] = np.random.normal((Rhat[i,t-1]-c_mean)*phi, sig, size=1) +c_mean\n",
        "            \n",
        "        n[i,t] = np.random.poisson(lam=lamb[i,t]*np.exp(Rhat[i,t]), size=1) #rpois(1, mu_n )\n",
        "        \n",
        "N_sim=n\n",
        "lamb_sim = lamb\n",
        "\n",
        "# print('N_sim shape', N_sim.shape)\n",
        "# print('lamb_sim shape', lamb_sim.shape) # lamb 복제 (nYear만큼)"
      ],
      "execution_count": null,
      "outputs": [],
      "id": "dKBIAhyptuOl"
    },
    {
      "cell_type": "markdown",
      "source": [
        "### You are given the following data\n",
        "\n",
        "1. N_sim: claim history of size [sample_size, 11] \n",
        "2. lamb_sim: true priori rate of size [sample_size, 11, 1]\n",
        "3. X_sim: explanatory variables of size [sample_size, 11, 3]"
      ],
      "metadata": {
        "id": "VX1-DGOpte2Z"
      },
      "id": "VX1-DGOpte2Z"
    },
    {
      "cell_type": "code",
      "source": [
        "np.unique(lamb_sim)"
      ],
      "metadata": {
        "colab": {
          "base_uri": "https://localhost:8080/"
        },
        "id": "mNAIxkkq4nXJ",
        "outputId": "c010216f-ee73-4100-8663-7df41a769429"
      },
      "execution_count": null,
      "outputs": [
        {
          "output_type": "execute_result",
          "data": {
            "text/plain": [
              "array([0.04978707, 0.13533528, 0.60653066, 1.64872127])"
            ]
          },
          "metadata": {},
          "execution_count": 6
        }
      ],
      "id": "mNAIxkkq4nXJ"
    },
    {
      "cell_type": "code",
      "source": [
        "Y = torch.tensor(N_sim[:,:,np.newaxis ], dtype=torch.float32) #shape: [none, 11, 1], #time t1~t11\n",
        "LAMB = torch.tensor(lamb_sim, dtype=torch.float32)\n",
        "\n",
        "N_train = int(sample_size*0.5)\n",
        "N_valid = int(sample_size*0.6)\n",
        "N_test  = int(sample_size*1.0)\n",
        "\n",
        "y_future_train, lamb_future_train, y_current_train, lamb_current_train =  Y[:N_train, 1:, :], LAMB[:N_train, 1:, :], Y[:N_train,:-1, :], LAMB[:N_train,:-1, :]\n",
        "y_future_valid, lamb_future_valid, y_current_valid, lamb_current_valid =  Y[N_train:N_valid, 1:, :], LAMB[N_train:N_valid, 1:, :], Y[N_train:N_valid,:-1, :], LAMB[N_train:N_valid,:-1, :]\n",
        "y_future_test, lamb_future_test, y_current_test, lamb_current_test =  Y[N_valid:, 1:, :], LAMB[N_valid:, 1:, :], Y[N_valid:,:-1, :], LAMB[N_valid:,:-1, :]\n"
      ],
      "metadata": {
        "id": "iz1q7WiE5w68"
      },
      "execution_count": null,
      "outputs": [],
      "id": "iz1q7WiE5w68"
    },
    {
      "cell_type": "code",
      "source": [
        "x_current_train = torch.concat([y_current_train, lamb_current_train], axis=2) # lambda &y\n",
        "x_current_valid = torch.concat([y_current_valid, lamb_current_valid], axis=2)\n",
        "x_current_test = torch.concat([y_current_test, lamb_current_test], axis=2)"
      ],
      "metadata": {
        "id": "uFUtmVC376EL"
      },
      "execution_count": null,
      "outputs": [],
      "id": "uFUtmVC376EL"
    },
    {
      "cell_type": "markdown",
      "source": [
        "# 4. Basic RNN "
      ],
      "metadata": {
        "id": "ODuBvd-1OOSr"
      },
      "id": "ODuBvd-1OOSr"
    },
    {
      "cell_type": "code",
      "source": [
        "train = torch.utils.data.TensorDataset(x_current_train, lamb_future_train, y_future_train)\n",
        "test = torch.utils.data.TensorDataset(x_current_test, lamb_future_test, y_future_test)\n",
        "\n",
        "batch_size = 32\n",
        "train_loader = torch.utils.data.DataLoader(dataset=train, batch_size=batch_size, shuffle=True)\n",
        "test_loader = torch.utils.data.DataLoader(dataset=test, batch_size=batch_size, shuffle=True)\n",
        "\n",
        "y_current_train.shape[0]"
      ],
      "metadata": {
        "id": "MXlsR2FR6Y9K",
        "colab": {
          "base_uri": "https://localhost:8080/"
        },
        "outputId": "ea229567-6116-4b6b-e31d-5e92b79eae4d"
      },
      "id": "MXlsR2FR6Y9K",
      "execution_count": null,
      "outputs": [
        {
          "output_type": "execute_result",
          "data": {
            "text/plain": [
              "75000"
            ]
          },
          "metadata": {},
          "execution_count": 9
        }
      ]
    },
    {
      "cell_type": "code",
      "source": [
        "class many_to_many_rnn(nn.Module):\n",
        "    \n",
        "    def __init__(self, input_size, hidden_size, num_layers):\n",
        "        super(many_to_many_rnn, self).__init__()\n",
        "        self.hidden_size = hidden_size # 8\n",
        "        self.num_layers = num_layers # 2\n",
        "        self.input_size = input_size # 10\n",
        "        ########################################################################\n",
        "        self.rnn = nn.RNN(input_size = input_size, hidden_size = hidden_size, num_layers = num_layers, batch_first = True)\n",
        "        # Then rnn handle the data of dimension [:, T, input_size]\n",
        "        ########################################################################\n",
        "        self.fc = nn.Sequential(nn.Linear(hidden_size, 1), nn.ReLU())\n",
        "        \n",
        "    def forward(self, y_current, lamb):\n",
        "        # many-to-many\n",
        "        h0 = torch.zeros(self.num_layers, y_current.shape[0], self.hidden_size) # [num_layers, n, num_hidden]\n",
        "        # (num_layers, batch_size, hidden_size)\n",
        "\n",
        "        out, hn = self.rnn(y_current, h0) # many-to-many, # out: hidden state of top layer, hn: hidden state of middle layers\n",
        "        out = torch.transpose(out, 0, 1)\n",
        "        out = self.fc(out) # many-to-many (defined by matrix multiplication)\n",
        "        out = torch.transpose(out, 0, 1)\n",
        "        \n",
        "        out = out*lamb\n",
        "\n",
        "        return out"
      ],
      "metadata": {
        "id": "mNazJPe2ORxG"
      },
      "id": "mNazJPe2ORxG",
      "execution_count": null,
      "outputs": []
    },
    {
      "cell_type": "code",
      "source": [
        "input_size=2\n",
        "hidden_size=8\n",
        "num_layers=2\n",
        "\n",
        "model = many_to_many_rnn(input_size=input_size, \n",
        "                   hidden_size=hidden_size,  \n",
        "                   num_layers=num_layers)\n",
        "                   \n",
        "                   \n",
        "def criterion_many_to_many(y_pred, y_true):\n",
        "  #y_pred: [:, T, 1]\n",
        "  #y_true: [:,T,1]\n",
        "  return torch.mean((y_pred-y_true)**2)\n",
        "\n",
        "lr = 1e-3\n",
        "optimizer = optim.Adam(model.parameters(), lr=lr)"
      ],
      "metadata": {
        "id": "o-PfdMiwOR9E"
      },
      "id": "o-PfdMiwOR9E",
      "execution_count": null,
      "outputs": []
    },
    {
      "cell_type": "code",
      "source": [
        "np.random.seed(2022)\n",
        "loss_graph = []\n",
        "num_epochs=50\n",
        "for epoch in range(num_epochs):\n",
        "    running_loss = 0.0\n",
        "    n=len(train_loader)\n",
        "    for seq1, seq2, target in train_loader:\n",
        "    \n",
        "        out = model(seq1, seq2)\n",
        "        loss = criterion_many_to_many(out, target)\n",
        "        \n",
        "        optimizer.zero_grad()\n",
        "        loss.backward()\n",
        "        optimizer.step()\n",
        "        running_loss += loss.item()\n",
        "    \n",
        "    loss_graph.append(running_loss/n)\n",
        "    print('[epoch: %d] loss: %.4f' %(epoch, running_loss/n))\n",
        "    \n",
        "out = model(x_current_test, lamb_future_test) "
      ],
      "metadata": {
        "colab": {
          "base_uri": "https://localhost:8080/"
        },
        "id": "NIz6n6otOR_0",
        "outputId": "a7d1c4c9-4420-4ccb-d99d-df337baf75a0"
      },
      "id": "NIz6n6otOR_0",
      "execution_count": null,
      "outputs": [
        {
          "output_type": "stream",
          "name": "stdout",
          "text": [
            "[epoch: 0] loss: 2.4106\n",
            "[epoch: 1] loss: 2.1867\n",
            "[epoch: 2] loss: 2.1369\n",
            "[epoch: 3] loss: 2.1126\n",
            "[epoch: 4] loss: 2.0998\n",
            "[epoch: 5] loss: 2.0877\n",
            "[epoch: 6] loss: 2.0820\n",
            "[epoch: 7] loss: 2.0762\n",
            "[epoch: 8] loss: 2.0699\n",
            "[epoch: 9] loss: 2.0670\n",
            "[epoch: 10] loss: 2.0604\n",
            "[epoch: 11] loss: 2.0578\n",
            "[epoch: 12] loss: 2.0565\n",
            "[epoch: 13] loss: 2.0548\n",
            "[epoch: 14] loss: 2.0504\n",
            "[epoch: 15] loss: 2.0489\n",
            "[epoch: 16] loss: 2.0475\n",
            "[epoch: 17] loss: 2.0477\n",
            "[epoch: 18] loss: 2.0447\n",
            "[epoch: 19] loss: 2.0438\n",
            "[epoch: 20] loss: 2.0424\n",
            "[epoch: 21] loss: 2.0418\n",
            "[epoch: 22] loss: 2.0420\n",
            "[epoch: 23] loss: 2.0398\n",
            "[epoch: 24] loss: 2.0390\n",
            "[epoch: 25] loss: 2.0357\n",
            "[epoch: 26] loss: 2.0348\n",
            "[epoch: 27] loss: 2.0361\n",
            "[epoch: 28] loss: 2.0352\n",
            "[epoch: 29] loss: 2.0307\n",
            "[epoch: 30] loss: 2.0313\n",
            "[epoch: 31] loss: 2.0296\n",
            "[epoch: 32] loss: 2.0296\n",
            "[epoch: 33] loss: 2.0266\n",
            "[epoch: 34] loss: 2.0298\n",
            "[epoch: 35] loss: 2.0271\n",
            "[epoch: 36] loss: 2.0215\n",
            "[epoch: 37] loss: 2.0267\n",
            "[epoch: 38] loss: 2.0258\n",
            "[epoch: 39] loss: 2.0255\n",
            "[epoch: 40] loss: 2.0240\n",
            "[epoch: 41] loss: 2.0240\n",
            "[epoch: 42] loss: 2.0199\n",
            "[epoch: 43] loss: 2.0237\n",
            "[epoch: 44] loss: 2.0211\n",
            "[epoch: 45] loss: 2.0186\n",
            "[epoch: 46] loss: 2.0197\n",
            "[epoch: 47] loss: 2.0177\n",
            "[epoch: 48] loss: 2.0178\n",
            "[epoch: 49] loss: 2.0201\n"
          ]
        }
      ]
    },
    {
      "cell_type": "code",
      "source": [
        "plt.figure(figsize=(10,5))\n",
        "plt.plot(loss_graph)\n",
        "plt.show() "
      ],
      "metadata": {
        "colab": {
          "base_uri": "https://localhost:8080/",
          "height": 320
        },
        "id": "9pJBLuz7Rb_d",
        "outputId": "87f07bdb-3cd8-4575-8053-eb50d5c41092"
      },
      "id": "9pJBLuz7Rb_d",
      "execution_count": null,
      "outputs": [
        {
          "output_type": "display_data",
          "data": {
            "text/plain": [
              "<Figure size 720x360 with 1 Axes>"
            ],
            "image/png": "[encoded data removed]"
          },
          "metadata": {
            "needs_background": "light"
          }
        }
      ]
    },
    {
      "cell_type": "code",
      "source": [
        "criterion_many_to_many(out, y_future_test)"
      ],
      "metadata": {
        "colab": {
          "base_uri": "https://localhost:8080/"
        },
        "id": "Ndt8JCgJPSWm",
        "outputId": "23e6ac2e-9641-492d-ad9c-123b4671078c"
      },
      "id": "Ndt8JCgJPSWm",
      "execution_count": null,
      "outputs": [
        {
          "output_type": "execute_result",
          "data": {
            "text/plain": [
              "tensor(2.0491, grad_fn=<MeanBackward0>)"
            ]
          },
          "metadata": {},
          "execution_count": 14
        }
      ]
    },
    {
      "cell_type": "markdown",
      "source": [
        "# 5. Positive Credibility \n"
      ],
      "metadata": {
        "id": "0FX-7nbu0ewa"
      },
      "id": "0FX-7nbu0ewa"
    },
    {
      "cell_type": "code",
      "source": [
        "train = torch.utils.data.TensorDataset(x_current_train, lamb_future_train, y_future_train)\n",
        "test = torch.utils.data.TensorDataset(x_current_test, lamb_future_test, y_future_test)\n",
        "\n",
        "batch_size = 32\n",
        "train_loader = torch.utils.data.DataLoader(dataset=train, batch_size=batch_size, shuffle=True, drop_last=True )\n",
        "test_loader = torch.utils.data.DataLoader(dataset=test, batch_size=batch_size, shuffle=True, drop_last=True )"
      ],
      "metadata": {
        "id": "dF0yWKZL0rye"
      },
      "id": "dF0yWKZL0rye",
      "execution_count": null,
      "outputs": []
    },
    {
      "cell_type": "code",
      "source": [
        "class cred_many_to_many(nn.Module):\n",
        "    \n",
        "    def __init__(self, input_size, hidden_size, num_layers):\n",
        "        super(cred_many_to_many, self).__init__()\n",
        "        self.hidden_size = hidden_size # 8\n",
        "        self.num_layers = num_layers # 2\n",
        "        self.input_size = input_size # 10\n",
        "        self.f0 = nn.Parameter(torch.ones(1),requires_grad= True )\n",
        "        ########################################################################\n",
        "        self.rnn = nn.RNN(input_size = input_size, hidden_size = hidden_size, num_layers = num_layers, batch_first = True)\n",
        "        # Then rnn handle the data of dimension [:, T, input_size]\n",
        "        ########################################################################\n",
        "        self.fc = nn.Sequential(nn.Linear(hidden_size, 1), nn.ReLU())\n",
        "        \n",
        "    def forward(self, y_current, lamb):\n",
        "        # many-to-many\n",
        "        h0 = torch.zeros(self.num_layers, y_current.shape[0], self.hidden_size) # [num_layers, n, num_hidden]\n",
        "        # (num_layers, batch_size, hidden_size)\n",
        "\n",
        "        out, hn = self.rnn(y_current, h0) # many-to-many, # out: hidden state of top layer, hn: hidden state of middle layers\n",
        "        out = torch.transpose(out, 0, 1)\n",
        "        out = self.fc(out) + torch.tensor(0.0001) # many-to-many (defined by matrix multiplication)\n",
        "        out = torch.transpose(out, 0, 1)\n",
        "\n",
        "        s = self.f0 + torch.cumsum(out,dim=1)\n",
        "\n",
        "        y = y_current[:,:,0:1]\n",
        "        lamb_t = y_current[:,:,1:]\n",
        "\n",
        "        y_hat = lamb/s * ( torch.cumsum(out * y / lamb_t, dim = 1) + self.f0)\n",
        "\n",
        "        return y_hat"
      ],
      "metadata": {
        "id": "n-nYNz4i0jrr"
      },
      "id": "n-nYNz4i0jrr",
      "execution_count": null,
      "outputs": []
    },
    {
      "cell_type": "code",
      "source": [
        "input_size=2\n",
        "hidden_size=8\n",
        "num_layers=2\n",
        "\n",
        "model = cred_many_to_many(input_size=input_size, \n",
        "                   hidden_size=hidden_size,  \n",
        "                   num_layers=num_layers)\n",
        "                   \n",
        "                   \n",
        "def criterion_many_to_many(y_pred, y_true):\n",
        "  return torch.mean((y_pred-y_true)**2)\n",
        "\n",
        "lr = 1e-3\n",
        "optimizer = optim.Adam(model.parameters(), lr=lr)"
      ],
      "metadata": {
        "id": "5Eo2UxYn1OXY"
      },
      "id": "5Eo2UxYn1OXY",
      "execution_count": null,
      "outputs": []
    },
    {
      "cell_type": "code",
      "source": [
        "ttt = model(x_current_train,lamb_future_train)\n",
        "print(ttt.shape, y_future_train.shape)"
      ],
      "metadata": {
        "colab": {
          "base_uri": "https://localhost:8080/"
        },
        "id": "e42E4jogT2ty",
        "outputId": "a6d491dd-16f6-472f-be52-dee97aafdb59"
      },
      "id": "e42E4jogT2ty",
      "execution_count": null,
      "outputs": [
        {
          "output_type": "stream",
          "name": "stdout",
          "text": [
            "torch.Size([75000, 10, 1]) torch.Size([75000, 10, 1])\n"
          ]
        }
      ]
    },
    {
      "cell_type": "code",
      "source": [
        "np.random.seed(2022)\n",
        "loss_graph = []\n",
        "num_epochs=30\n",
        "for epoch in range(num_epochs):\n",
        "    running_loss = 0.0\n",
        "    n=len(train_loader)\n",
        "    for seq1, seq2, target in train_loader:\n",
        "    \n",
        "        out = model(seq1, seq2)\n",
        "        loss = criterion_many_to_many(out, target)\n",
        "        \n",
        "        optimizer.zero_grad()\n",
        "        loss.backward()\n",
        "        optimizer.step()\n",
        "        running_loss += loss.item()\n",
        "    \n",
        "    loss_graph.append(running_loss/n)\n",
        "    print('[epoch: %d] loss: %.4f' %(epoch, running_loss/n))\n",
        "    \n",
        "out = model(x_current_test, lamb_future_test) "
      ],
      "metadata": {
        "colab": {
          "base_uri": "https://localhost:8080/"
        },
        "id": "XYXg4eeS1T7D",
        "outputId": "fb87b09f-94dc-48b4-c4a7-2336f72ae06c"
      },
      "id": "XYXg4eeS1T7D",
      "execution_count": null,
      "outputs": [
        {
          "output_type": "stream",
          "name": "stdout",
          "text": [
            "[epoch: 0] loss: 2.2822\n",
            "[epoch: 1] loss: 2.2257\n",
            "[epoch: 2] loss: 2.2159\n",
            "[epoch: 3] loss: 2.2041\n",
            "[epoch: 4] loss: 2.1945\n",
            "[epoch: 5] loss: 2.1950\n",
            "[epoch: 6] loss: 2.1825\n",
            "[epoch: 7] loss: 2.1741\n",
            "[epoch: 8] loss: 2.1713\n",
            "[epoch: 9] loss: 2.1526\n",
            "[epoch: 10] loss: 2.1496\n",
            "[epoch: 11] loss: 2.1332\n",
            "[epoch: 12] loss: 2.1413\n",
            "[epoch: 13] loss: 2.1291\n",
            "[epoch: 14] loss: 2.1243\n",
            "[epoch: 15] loss: 2.1209\n",
            "[epoch: 16] loss: 2.1269\n",
            "[epoch: 17] loss: 2.1123\n",
            "[epoch: 18] loss: 2.1155\n",
            "[epoch: 19] loss: 2.1230\n",
            "[epoch: 20] loss: 2.1099\n",
            "[epoch: 21] loss: 2.1059\n",
            "[epoch: 22] loss: 2.1007\n",
            "[epoch: 23] loss: 2.1049\n",
            "[epoch: 24] loss: 2.1013\n",
            "[epoch: 25] loss: 2.0886\n",
            "[epoch: 26] loss: 2.0973\n",
            "[epoch: 27] loss: 2.0937\n",
            "[epoch: 28] loss: 2.0843\n",
            "[epoch: 29] loss: 2.0910\n"
          ]
        }
      ]
    },
    {
      "cell_type": "code",
      "source": [
        "plt.figure(figsize=(10,5))\n",
        "plt.plot(loss_graph)\n",
        "plt.show()"
      ],
      "metadata": {
        "colab": {
          "base_uri": "https://localhost:8080/",
          "height": 320
        },
        "id": "o1CtwhrQmJhr",
        "outputId": "21c28b7f-b5c7-497d-bcf8-252e343ae25f"
      },
      "id": "o1CtwhrQmJhr",
      "execution_count": null,
      "outputs": [
        {
          "output_type": "display_data",
          "data": {
            "text/plain": [
              "<Figure size 720x360 with 1 Axes>"
            ],
            "image/png": "[encoded data removed]"
          },
          "metadata": {
            "needs_background": "light"
          }
        }
      ]
    },
    {
      "cell_type": "code",
      "source": [
        "criterion_many_to_many(out, y_future_test)"
      ],
      "metadata": {
        "colab": {
          "base_uri": "https://localhost:8080/"
        },
        "id": "SHqjLaCW1Wh_",
        "outputId": "19432f5b-91c9-45a6-80ef-f447ade24cea"
      },
      "id": "SHqjLaCW1Wh_",
      "execution_count": null,
      "outputs": [
        {
          "output_type": "execute_result",
          "data": {
            "text/plain": [
              "tensor(2.1792, grad_fn=<MeanBackward0>)"
            ]
          },
          "metadata": {},
          "execution_count": 41
        }
      ]
    },
    {
      "cell_type": "markdown",
      "source": [
        "### 추가 \n",
        "* out 과 f0 따로 뽑아서 밖에서 계산진행해보기. \n"
      ],
      "metadata": {
        "id": "j7Un829mrTXb"
      },
      "id": "j7Un829mrTXb"
    },
    {
      "cell_type": "code",
      "source": [
        "class cred_many_to_many(nn.Module):\n",
        "    \n",
        "    def __init__(self, input_size, hidden_size, num_layers):\n",
        "        super(cred_many_to_many, self).__init__()\n",
        "        self.hidden_size = hidden_size # 8\n",
        "        self.num_layers = num_layers # 2\n",
        "        self.input_size = input_size # 10\n",
        "        self.f0 = nn.Parameter(torch.ones(1),requires_grad= True )\n",
        "        ########################################################################\n",
        "        self.rnn = nn.RNN(input_size = input_size, hidden_size = hidden_size, num_layers = num_layers, batch_first = True)\n",
        "        # Then rnn handle the data of dimension [:, T, input_size]\n",
        "        ########################################################################\n",
        "        self.fc = nn.Sequential(nn.Linear(hidden_size, 1), nn.ReLU())\n",
        "        \n",
        "    def forward(self, y_current, lamb):\n",
        "        # many-to-many\n",
        "        h0 = torch.zeros(self.num_layers, y_current.shape[0], self.hidden_size) # [num_layers, n, num_hidden]\n",
        "        # (num_layers, batch_size, hidden_size)\n",
        "\n",
        "        out, hn = self.rnn(y_current, h0) # many-to-many, # out: hidden state of top layer, hn: hidden state of middle layers\n",
        "        out = torch.transpose(out, 0, 1)\n",
        "        out = self.fc(out) + torch.tensor(0.0001) # many-to-many (defined by matrix multiplication)\n",
        "        out = torch.transpose(out, 0, 1)\n",
        "        f0 = self.f0\n",
        "\n",
        "        return f0, out"
      ],
      "metadata": {
        "id": "R2aLOd74l8qq"
      },
      "execution_count": null,
      "outputs": [],
      "id": "R2aLOd74l8qq"
    },
    {
      "cell_type": "code",
      "source": [
        "input_size=2\n",
        "hidden_size=8\n",
        "num_layers=2\n",
        "\n",
        "model = cred_many_to_many(input_size=input_size, \n",
        "                   hidden_size=hidden_size,  \n",
        "                   num_layers=num_layers)"
      ],
      "metadata": {
        "id": "wjSnM6WbsF_l"
      },
      "id": "wjSnM6WbsF_l",
      "execution_count": null,
      "outputs": []
    },
    {
      "cell_type": "code",
      "source": [
        "def mypred(f0, out, y_current, lamb):\n",
        "\n",
        "  s = f0 + torch.cumsum(out,dim=1)\n",
        "  y = y_current[:,:,0:1]\n",
        "  lamb_t = y_current[:,:,1:]\n",
        "  y_hat = lamb/s * ( torch.cumsum(out * y / lamb_t, dim = 1) + f0)\n",
        "\n",
        "  return y_hat "
      ],
      "metadata": {
        "id": "DdJ2X0kPsUgb"
      },
      "id": "DdJ2X0kPsUgb",
      "execution_count": null,
      "outputs": []
    },
    {
      "cell_type": "code",
      "source": [
        "np.random.seed(2022)\n",
        "loss_graph = []\n",
        "num_epochs=5\n",
        "for epoch in range(num_epochs):\n",
        "    running_loss = 0.0\n",
        "    n=len(train_loader)\n",
        "    for seq1, seq2, target in train_loader:\n",
        "    \n",
        "        f0, out = model(seq1, seq2)\n",
        "        out = mypred(f0, out, seq1, seq2)\n",
        "        loss = criterion_many_to_many(out, target)\n",
        "        \n",
        "        optimizer.zero_grad()\n",
        "        loss.backward()\n",
        "        optimizer.step()\n",
        "        running_loss += loss.item()\n",
        "    \n",
        "    loss_graph.append(running_loss/n)\n",
        "    print('[epoch: %d] loss: %.4f' %(epoch, running_loss/n))"
      ],
      "metadata": {
        "colab": {
          "base_uri": "https://localhost:8080/"
        },
        "id": "cv6Zx3GzsJtu",
        "outputId": "2a5a4c9c-597d-45b5-df49-2d8d699ebf13"
      },
      "id": "cv6Zx3GzsJtu",
      "execution_count": null,
      "outputs": [
        {
          "output_type": "stream",
          "name": "stdout",
          "text": [
            "[epoch: 0] loss: 2.9748\n",
            "[epoch: 1] loss: 2.9746\n",
            "[epoch: 2] loss: 2.9737\n",
            "[epoch: 3] loss: 2.9743\n",
            "[epoch: 4] loss: 2.9748\n"
          ]
        }
      ]
    },
    {
      "cell_type": "code",
      "source": [
        "f0, out = model(x_current_test, lamb_future_test) \n",
        "out = mypred(f0, out, x_current_test, lamb_future_test)"
      ],
      "metadata": {
        "id": "6lUk13vZrqfw"
      },
      "id": "6lUk13vZrqfw",
      "execution_count": null,
      "outputs": []
    },
    {
      "cell_type": "code",
      "source": [
        "criterion_many_to_many(out, y_future_test)"
      ],
      "metadata": {
        "colab": {
          "base_uri": "https://localhost:8080/"
        },
        "id": "l9dfGWMHrqkc",
        "outputId": "2c752dca-3ce6-46d4-c6be-253dd7757bcc"
      },
      "id": "l9dfGWMHrqkc",
      "execution_count": null,
      "outputs": [
        {
          "output_type": "execute_result",
          "data": {
            "text/plain": [
              "tensor(3.0610, grad_fn=<MeanBackward0>)"
            ]
          },
          "metadata": {},
          "execution_count": 47
        }
      ]
    },
    {
      "cell_type": "code",
      "source": [
        "torch.sum(out<=0)"
      ],
      "metadata": {
        "colab": {
          "base_uri": "https://localhost:8080/"
        },
        "id": "FN30_Jp1IVpq",
        "outputId": "4dbd7480-c2c8-4d96-d7e5-ebdc65cd6b3d"
      },
      "id": "FN30_Jp1IVpq",
      "execution_count": null,
      "outputs": [
        {
          "output_type": "execute_result",
          "data": {
            "text/plain": [
              "tensor(0)"
            ]
          },
          "metadata": {},
          "execution_count": 51
        }
      ]
    },
    {
      "cell_type": "markdown",
      "source": [
        "전부다 positive value임을 확인할 수 있다. "
      ],
      "metadata": {
        "id": "x5k_stXcIxU4"
      },
      "id": "x5k_stXcIxU4"
    },
    {
      "cell_type": "markdown",
      "source": [
        "# 6. Ordered Credibility\n",
        "\n",
        "alpha0 < alpha1 < ... < alpha{t} \n"
      ],
      "metadata": {
        "id": "Cq8a3dhSjnLp"
      },
      "id": "Cq8a3dhSjnLp"
    },
    {
      "cell_type": "code",
      "source": [
        "class ordered_cred_many_to_many(nn.Module):\n",
        "    \n",
        "    def __init__(self, input_size, hidden_size, num_layers):\n",
        "        super(ordered_cred_many_to_many, self).__init__()\n",
        "        self.hidden_size = hidden_size # 8\n",
        "        self.num_layers = num_layers # 2\n",
        "        self.input_size = input_size # 10\n",
        "        self.f0 = nn.Parameter(torch.ones(1),requires_grad=True)\n",
        "        ########################################################################\n",
        "        self.rnn = nn.RNN(input_size = input_size, hidden_size = hidden_size, num_layers = num_layers, batch_first = True)\n",
        "        # Then rnn handle the data of dimension [:, T, input_size]\n",
        "        ########################################################################\n",
        "        self.fc = nn.Sequential(nn.Linear(hidden_size, 1), nn.ReLU())\n",
        "        \n",
        "    def forward(self, y_current, lamb):\n",
        "        # many-to-many\n",
        "        h0 = torch.zeros(self.num_layers, y_current.shape[0], self.hidden_size) # [num_layers, n, num_hidden]\n",
        "        # (num_layers, batch_size, hidden_size)\n",
        "\n",
        "        out, hn = self.rnn(y_current, h0) # many-to-many, # out: hidden state of top layer, hn: hidden state of middle layers\n",
        "        out = torch.transpose(out, 0, 1)\n",
        "        out = self.fc(out) + torch.tensor(0.0001) # many-to-many (defined by matrix multiplication)\n",
        "        out = torch.transpose(out, 0, 1)\n",
        "\n",
        "        out = torch.cumsum(out , dim = 1) #f \n",
        "        s = self.f0 + torch.cumsum(out, dim =1 )\n",
        "        \n",
        "        y = y_current[:,:,0:1]\n",
        "        lamb_t = y_current[:,:,1:]\n",
        "\n",
        "        y_hat = lamb/s * ( torch.cumsum( out * y / lamb_t, dim = 1) + self.f0)\n",
        "\n",
        "        return y_hat"
      ],
      "metadata": {
        "id": "bqN7tDdCjoxO"
      },
      "id": "bqN7tDdCjoxO",
      "execution_count": null,
      "outputs": []
    },
    {
      "cell_type": "code",
      "source": [
        "input_size=2\n",
        "hidden_size=8\n",
        "num_layers=2\n",
        "\n",
        "model = ordered_cred_many_to_many(input_size=input_size, \n",
        "                   hidden_size=hidden_size,  \n",
        "                   num_layers=num_layers)\n",
        "                   \n",
        "                   \n",
        "def criterion_many_to_many(y_pred, y_true):\n",
        "  return torch.mean((y_pred-y_true)**2)\n",
        "\n",
        "lr = 1e-3\n",
        "optimizer = optim.Adam(model.parameters(), lr=lr)"
      ],
      "metadata": {
        "id": "7muratpVjtNv"
      },
      "id": "7muratpVjtNv",
      "execution_count": null,
      "outputs": []
    },
    {
      "cell_type": "code",
      "source": [
        "np.random.seed(2022)\n",
        "loss_graph = []\n",
        "num_epochs=30\n",
        "for epoch in range(num_epochs):\n",
        "    running_loss = 0.0\n",
        "    n=len(train_loader)\n",
        "    for seq1, seq2, target in train_loader:\n",
        "    \n",
        "        out = model(seq1, seq2)\n",
        "        loss = criterion_many_to_many(out, target)\n",
        "        \n",
        "        optimizer.zero_grad()\n",
        "        loss.backward()\n",
        "        optimizer.step()\n",
        "        running_loss += loss.item()\n",
        "    \n",
        "    loss_graph.append(running_loss/n)\n",
        "    print('[epoch: %d] loss: %.4f' %(epoch, running_loss/n))\n",
        "    \n",
        "out = model(x_current_test, lamb_future_test) "
      ],
      "metadata": {
        "colab": {
          "base_uri": "https://localhost:8080/"
        },
        "id": "lVAuMw58jvsL",
        "outputId": "2c89cccc-5809-471d-ca0a-af3cd7222fd0"
      },
      "id": "lVAuMw58jvsL",
      "execution_count": null,
      "outputs": [
        {
          "output_type": "stream",
          "name": "stdout",
          "text": [
            "[epoch: 0] loss: 3.0763\n",
            "[epoch: 1] loss: 3.3628\n",
            "[epoch: 2] loss: 3.3554\n",
            "[epoch: 3] loss: 3.3370\n",
            "[epoch: 4] loss: 3.3016\n",
            "[epoch: 5] loss: 3.2585\n",
            "[epoch: 6] loss: 3.2197\n",
            "[epoch: 7] loss: 3.1899\n",
            "[epoch: 8] loss: 3.1701\n",
            "[epoch: 9] loss: 3.1544\n",
            "[epoch: 10] loss: 3.1449\n",
            "[epoch: 11] loss: 3.1384\n",
            "[epoch: 12] loss: 3.1342\n",
            "[epoch: 13] loss: 3.1311\n",
            "[epoch: 14] loss: 3.1294\n",
            "[epoch: 15] loss: 3.1279\n",
            "[epoch: 16] loss: 3.1272\n",
            "[epoch: 17] loss: 3.1266\n",
            "[epoch: 18] loss: 3.1263\n",
            "[epoch: 19] loss: 3.1268\n",
            "[epoch: 20] loss: 3.1257\n",
            "[epoch: 21] loss: 3.1255\n",
            "[epoch: 22] loss: 3.1254\n",
            "[epoch: 23] loss: 3.1254\n",
            "[epoch: 24] loss: 3.1255\n",
            "[epoch: 25] loss: 3.1252\n",
            "[epoch: 26] loss: 3.1254\n",
            "[epoch: 27] loss: 3.1253\n",
            "[epoch: 28] loss: 3.1251\n",
            "[epoch: 29] loss: 3.1251\n"
          ]
        }
      ]
    },
    {
      "cell_type": "code",
      "source": [
        "plt.figure(figsize=(10,5))\n",
        "plt.plot(loss_graph)\n",
        "plt.show()"
      ],
      "metadata": {
        "colab": {
          "base_uri": "https://localhost:8080/"
        },
        "id": "XiI8SNvqZLH6",
        "outputId": "14fa407a-93ff-41f9-bfe0-0eb8b521756a"
      },
      "id": "XiI8SNvqZLH6",
      "execution_count": null,
      "outputs": [
        {
          "output_type": "display_data",
          "data": {
            "text/plain": [
              "<Figure size 720x360 with 1 Axes>"
            ],
            "image/png": "[encoded data removed]"
          },
          "metadata": {
            "needs_background": "light"
          }
        }
      ]
    },
    {
      "cell_type": "code",
      "source": [
        "criterion_many_to_many(out, y_future_test)"
      ],
      "metadata": {
        "colab": {
          "base_uri": "https://localhost:8080/"
        },
        "id": "mh0foDC2jvxZ",
        "outputId": "e6efd916-2f63-4f95-eccc-468cc1cfa637"
      },
      "id": "mh0foDC2jvxZ",
      "execution_count": null,
      "outputs": [
        {
          "output_type": "execute_result",
          "data": {
            "text/plain": [
              "tensor(3.2198, grad_fn=<MeanBackward0>)"
            ]
          },
          "metadata": {},
          "execution_count": 14
        }
      ]
    },
    {
      "cell_type": "markdown",
      "source": [
        "### 추가 : Ordered? \n"
      ],
      "metadata": {
        "id": "KcxFujxs8ssN"
      },
      "id": "KcxFujxs8ssN"
    },
    {
      "cell_type": "code",
      "source": [
        "class ordered_out(nn.Module):\n",
        "    \n",
        "    def __init__(self, input_size, hidden_size, num_layers):\n",
        "        super(ordered_out, self).__init__()\n",
        "        self.hidden_size = hidden_size # 8\n",
        "        self.num_layers = num_layers # 2\n",
        "        self.input_size = input_size # 10\n",
        "        self.f0 = nn.Parameter(torch.ones(1),requires_grad=True)\n",
        "        ########################################################################\n",
        "        self.rnn = nn.RNN(input_size = input_size, hidden_size = hidden_size, num_layers = num_layers, batch_first = True)\n",
        "        # Then rnn handle the data of dimension [:, T, input_size]\n",
        "        ########################################################################\n",
        "        self.fc = nn.Sequential(nn.Linear(hidden_size, 1), nn.ReLU())\n",
        "        \n",
        "    def forward(self, y_current, lamb):\n",
        "        # many-to-many\n",
        "        h0 = torch.zeros(self.num_layers, y_current.shape[0], self.hidden_size) # [num_layers, n, num_hidden]\n",
        "        # (num_layers, batch_size, hidden_size)\n",
        "\n",
        "        out, hn = self.rnn(y_current, h0) # many-to-many, # out: hidden state of top layer, hn: hidden state of middle layers\n",
        "        out = torch.transpose(out, 0, 1)\n",
        "        out = self.fc(out) + torch.tensor(0.0001) # many-to-many (defined by matrix multiplication)\n",
        "        out = torch.transpose(out, 0, 1)\n",
        "\n",
        "        out = torch.cumsum(out , dim = 1) #f \n",
        "\n",
        "        return out"
      ],
      "metadata": {
        "id": "eoqbNQp38v2K"
      },
      "id": "eoqbNQp38v2K",
      "execution_count": null,
      "outputs": []
    },
    {
      "cell_type": "code",
      "source": [
        "input_size=2\n",
        "hidden_size=8\n",
        "num_layers=2\n",
        "\n",
        "model = ordered_out(input_size=input_size, \n",
        "                   hidden_size=hidden_size,  \n",
        "                   num_layers=num_layers)\n",
        "                   \n",
        "\n",
        "lr = 1e-3\n",
        "optimizer = optim.Adam(model.parameters(), lr=lr)"
      ],
      "metadata": {
        "id": "XTr8aDK68-3G"
      },
      "execution_count": null,
      "outputs": [],
      "id": "XTr8aDK68-3G"
    },
    {
      "cell_type": "code",
      "source": [
        "def mypred(out, y_current, lamb):\n",
        "\n",
        "  f0 = torch.tensor(1.0,requires_grad=True)\n",
        "  s = f0 + torch.cumsum(out,dim=1)\n",
        "  y = y_current[:,:,0:1]\n",
        "  lamb_t = y_current[:,:,1:]\n",
        "  y_hat = lamb/s * ( torch.cumsum(out * y / lamb_t, dim = 1) + f0)\n",
        "\n",
        "  return y_hat "
      ],
      "metadata": {
        "id": "5vm6fOFt9cgD"
      },
      "id": "5vm6fOFt9cgD",
      "execution_count": null,
      "outputs": []
    },
    {
      "cell_type": "code",
      "source": [
        "np.random.seed(2022)\n",
        "loss_graph = []\n",
        "num_epochs=5\n",
        "\n",
        "for epoch in range(num_epochs):\n",
        "    running_loss = 0.0\n",
        "    n=len(train_loader)\n",
        "    for seq1, seq2, target in train_loader:\n",
        "    \n",
        "        out = model(seq1, seq2)\n",
        "        out = mypred(out, seq1, seq2)\n",
        "        loss = criterion_many_to_many(out, target)\n",
        "        \n",
        "        optimizer.zero_grad()\n",
        "        loss.backward()\n",
        "        optimizer.step()\n",
        "        running_loss += loss.item()\n",
        "    \n",
        "    loss_graph.append(running_loss/n)\n",
        "    print('[epoch: %d] loss: %.4f' %(epoch, running_loss/n))\n",
        "    \n",
        "out = model(x_current_test, lamb_future_test) "
      ],
      "metadata": {
        "colab": {
          "base_uri": "https://localhost:8080/"
        },
        "outputId": "9d672b4e-e1c5-422f-bfdf-5159bd9e7c26",
        "id": "GAHZOt638-3I"
      },
      "execution_count": null,
      "outputs": [
        {
          "output_type": "stream",
          "name": "stdout",
          "text": [
            "[epoch: 0] loss: 2.3557\n",
            "[epoch: 1] loss: 2.3354\n",
            "[epoch: 2] loss: 2.3175\n",
            "[epoch: 3] loss: 2.3072\n",
            "[epoch: 4] loss: 2.3048\n"
          ]
        }
      ],
      "id": "GAHZOt638-3I"
    },
    {
      "cell_type": "code",
      "source": [
        "out.shape"
      ],
      "metadata": {
        "colab": {
          "base_uri": "https://localhost:8080/"
        },
        "id": "cdWwO8qF9XIz",
        "outputId": "3a9680ab-b392-433a-ecc3-3327f149a207"
      },
      "id": "cdWwO8qF9XIz",
      "execution_count": null,
      "outputs": [
        {
          "output_type": "execute_result",
          "data": {
            "text/plain": [
              "torch.Size([60000, 10, 1])"
            ]
          },
          "metadata": {},
          "execution_count": 60
        }
      ]
    },
    {
      "cell_type": "code",
      "source": [
        "y_hat = mypred(out, x_current_test, lamb_future_test)\n",
        "loss = criterion_many_to_many(y_hat, y_future_test)"
      ],
      "metadata": {
        "id": "5I3aVt1A-Ltj"
      },
      "id": "5I3aVt1A-Ltj",
      "execution_count": null,
      "outputs": []
    },
    {
      "cell_type": "code",
      "source": [
        "loss"
      ],
      "metadata": {
        "colab": {
          "base_uri": "https://localhost:8080/"
        },
        "id": "P2ErBu0q-tJi",
        "outputId": "eae6864d-b20d-41e8-bf03-e74744bfbd5d"
      },
      "id": "P2ErBu0q-tJi",
      "execution_count": null,
      "outputs": [
        {
          "output_type": "execute_result",
          "data": {
            "text/plain": [
              "tensor(2.3424, grad_fn=<MeanBackward0>)"
            ]
          },
          "metadata": {},
          "execution_count": 62
        }
      ]
    },
    {
      "cell_type": "code",
      "source": [
        "out[0,:,:]"
      ],
      "metadata": {
        "colab": {
          "base_uri": "https://localhost:8080/"
        },
        "id": "MR86FPoV-wPL",
        "outputId": "a091a7e1-3954-4ae5-e5f3-7200583c9822"
      },
      "id": "MR86FPoV-wPL",
      "execution_count": null,
      "outputs": [
        {
          "output_type": "execute_result",
          "data": {
            "text/plain": [
              "tensor([[0.1828],\n",
              "        [0.1829],\n",
              "        [0.1830],\n",
              "        [0.1831],\n",
              "        [0.1832],\n",
              "        [0.1833],\n",
              "        [0.1834],\n",
              "        [0.1835],\n",
              "        [0.3166],\n",
              "        [0.3167]], grad_fn=<SliceBackward0>)"
            ]
          },
          "metadata": {},
          "execution_count": 63
        }
      ]
    },
    {
      "cell_type": "markdown",
      "source": [
        "Output value가 정확히 ordered 된 것을 확인할 수 있다. "
      ],
      "metadata": {
        "id": "pa5EojC-_uRD"
      },
      "id": "pa5EojC-_uRD"
    }
  ]
}